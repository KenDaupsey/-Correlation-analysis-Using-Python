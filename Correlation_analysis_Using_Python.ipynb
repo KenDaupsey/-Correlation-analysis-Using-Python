{
  "nbformat": 4,
  "nbformat_minor": 0,
  "metadata": {
    "colab": {
      "provenance": [],
      "authorship_tag": "ABX9TyNyxSzhx0CXcJ90HsN45kSu",
      "include_colab_link": true
    },
    "kernelspec": {
      "name": "python3",
      "display_name": "Python 3"
    },
    "language_info": {
      "name": "python"
    }
  },
  "cells": [
    {
      "cell_type": "markdown",
      "metadata": {
        "id": "view-in-github",
        "colab_type": "text"
      },
      "source": [
        "<a href=\"https://colab.research.google.com/github/KenDaupsey/-Correlation-analysis-Using-Python/blob/main/Correlation_analysis_Using_Python.ipynb\" target=\"_parent\"><img src=\"https://colab.research.google.com/assets/colab-badge.svg\" alt=\"Open In Colab\"/></a>"
      ]
    },
    {
      "cell_type": "markdown",
      "source": [
        "*** Correlation analysis Using Python ***"
      ],
      "metadata": {
        "id": "7MvnsZvrLr6t"
      }
    },
    {
      "cell_type": "code",
      "source": [
        "### Import Necessary Libraries\n",
        "\n",
        "import pandas as pd\n",
        "import numpy as np\n",
        "import statsmodels.api as sm\n",
        "import matplotlib.pyplot as plt"
      ],
      "metadata": {
        "id": "33x289ggLv9R"
      },
      "execution_count": 1,
      "outputs": []
    },
    {
      "cell_type": "code",
      "source": [
        "### Load Dataset and Examine First 5 Rows\n",
        "url= \"https://raw.githubusercontent.com/KenDaupsey/-Correlation-analysis-Using-Python/main/hsb2%7Edata.csv\"\n",
        "df = pd.read_csv(url)\n",
        "df.head()"
      ],
      "metadata": {
        "colab": {
          "base_uri": "https://localhost:8080/",
          "height": 206
        },
        "id": "IwjRpAz5OHBr",
        "outputId": "4d09369b-e4bf-4777-c25e-e68495fabee3"
      },
      "execution_count": 2,
      "outputs": [
        {
          "output_type": "execute_result",
          "data": {
            "text/plain": [
              "    id  female   race     ses  schtyp      prog  read  write  math  science  \\\n",
              "0   70    male  white     low  public   general    57     52    41       47   \n",
              "1  121  female  white  middle  public  vocation    68     59    53       63   \n",
              "2   86    male  white    high  public   general    44     33    54       58   \n",
              "3  141    male  white    high  public  vocation    63     44    47       53   \n",
              "4  172    male  white  middle  public  academic    47     52    57       53   \n",
              "\n",
              "   socst  \n",
              "0     57  \n",
              "1     61  \n",
              "2     31  \n",
              "3     56  \n",
              "4     61  "
            ],
            "text/html": [
              "\n",
              "  <div id=\"df-6ebd9f8f-4bc3-4b9b-b555-085d34eeb175\" class=\"colab-df-container\">\n",
              "    <div>\n",
              "<style scoped>\n",
              "    .dataframe tbody tr th:only-of-type {\n",
              "        vertical-align: middle;\n",
              "    }\n",
              "\n",
              "    .dataframe tbody tr th {\n",
              "        vertical-align: top;\n",
              "    }\n",
              "\n",
              "    .dataframe thead th {\n",
              "        text-align: right;\n",
              "    }\n",
              "</style>\n",
              "<table border=\"1\" class=\"dataframe\">\n",
              "  <thead>\n",
              "    <tr style=\"text-align: right;\">\n",
              "      <th></th>\n",
              "      <th>id</th>\n",
              "      <th>female</th>\n",
              "      <th>race</th>\n",
              "      <th>ses</th>\n",
              "      <th>schtyp</th>\n",
              "      <th>prog</th>\n",
              "      <th>read</th>\n",
              "      <th>write</th>\n",
              "      <th>math</th>\n",
              "      <th>science</th>\n",
              "      <th>socst</th>\n",
              "    </tr>\n",
              "  </thead>\n",
              "  <tbody>\n",
              "    <tr>\n",
              "      <th>0</th>\n",
              "      <td>70</td>\n",
              "      <td>male</td>\n",
              "      <td>white</td>\n",
              "      <td>low</td>\n",
              "      <td>public</td>\n",
              "      <td>general</td>\n",
              "      <td>57</td>\n",
              "      <td>52</td>\n",
              "      <td>41</td>\n",
              "      <td>47</td>\n",
              "      <td>57</td>\n",
              "    </tr>\n",
              "    <tr>\n",
              "      <th>1</th>\n",
              "      <td>121</td>\n",
              "      <td>female</td>\n",
              "      <td>white</td>\n",
              "      <td>middle</td>\n",
              "      <td>public</td>\n",
              "      <td>vocation</td>\n",
              "      <td>68</td>\n",
              "      <td>59</td>\n",
              "      <td>53</td>\n",
              "      <td>63</td>\n",
              "      <td>61</td>\n",
              "    </tr>\n",
              "    <tr>\n",
              "      <th>2</th>\n",
              "      <td>86</td>\n",
              "      <td>male</td>\n",
              "      <td>white</td>\n",
              "      <td>high</td>\n",
              "      <td>public</td>\n",
              "      <td>general</td>\n",
              "      <td>44</td>\n",
              "      <td>33</td>\n",
              "      <td>54</td>\n",
              "      <td>58</td>\n",
              "      <td>31</td>\n",
              "    </tr>\n",
              "    <tr>\n",
              "      <th>3</th>\n",
              "      <td>141</td>\n",
              "      <td>male</td>\n",
              "      <td>white</td>\n",
              "      <td>high</td>\n",
              "      <td>public</td>\n",
              "      <td>vocation</td>\n",
              "      <td>63</td>\n",
              "      <td>44</td>\n",
              "      <td>47</td>\n",
              "      <td>53</td>\n",
              "      <td>56</td>\n",
              "    </tr>\n",
              "    <tr>\n",
              "      <th>4</th>\n",
              "      <td>172</td>\n",
              "      <td>male</td>\n",
              "      <td>white</td>\n",
              "      <td>middle</td>\n",
              "      <td>public</td>\n",
              "      <td>academic</td>\n",
              "      <td>47</td>\n",
              "      <td>52</td>\n",
              "      <td>57</td>\n",
              "      <td>53</td>\n",
              "      <td>61</td>\n",
              "    </tr>\n",
              "  </tbody>\n",
              "</table>\n",
              "</div>\n",
              "    <div class=\"colab-df-buttons\">\n",
              "\n",
              "  <div class=\"colab-df-container\">\n",
              "    <button class=\"colab-df-convert\" onclick=\"convertToInteractive('df-6ebd9f8f-4bc3-4b9b-b555-085d34eeb175')\"\n",
              "            title=\"Convert this dataframe to an interactive table.\"\n",
              "            style=\"display:none;\">\n",
              "\n",
              "  <svg xmlns=\"http://www.w3.org/2000/svg\" height=\"24px\" viewBox=\"0 -960 960 960\">\n",
              "    <path d=\"M120-120v-720h720v720H120Zm60-500h600v-160H180v160Zm220 220h160v-160H400v160Zm0 220h160v-160H400v160ZM180-400h160v-160H180v160Zm440 0h160v-160H620v160ZM180-180h160v-160H180v160Zm440 0h160v-160H620v160Z\"/>\n",
              "  </svg>\n",
              "    </button>\n",
              "\n",
              "  <style>\n",
              "    .colab-df-container {\n",
              "      display:flex;\n",
              "      gap: 12px;\n",
              "    }\n",
              "\n",
              "    .colab-df-convert {\n",
              "      background-color: #E8F0FE;\n",
              "      border: none;\n",
              "      border-radius: 50%;\n",
              "      cursor: pointer;\n",
              "      display: none;\n",
              "      fill: #1967D2;\n",
              "      height: 32px;\n",
              "      padding: 0 0 0 0;\n",
              "      width: 32px;\n",
              "    }\n",
              "\n",
              "    .colab-df-convert:hover {\n",
              "      background-color: #E2EBFA;\n",
              "      box-shadow: 0px 1px 2px rgba(60, 64, 67, 0.3), 0px 1px 3px 1px rgba(60, 64, 67, 0.15);\n",
              "      fill: #174EA6;\n",
              "    }\n",
              "\n",
              "    .colab-df-buttons div {\n",
              "      margin-bottom: 4px;\n",
              "    }\n",
              "\n",
              "    [theme=dark] .colab-df-convert {\n",
              "      background-color: #3B4455;\n",
              "      fill: #D2E3FC;\n",
              "    }\n",
              "\n",
              "    [theme=dark] .colab-df-convert:hover {\n",
              "      background-color: #434B5C;\n",
              "      box-shadow: 0px 1px 3px 1px rgba(0, 0, 0, 0.15);\n",
              "      filter: drop-shadow(0px 1px 2px rgba(0, 0, 0, 0.3));\n",
              "      fill: #FFFFFF;\n",
              "    }\n",
              "  </style>\n",
              "\n",
              "    <script>\n",
              "      const buttonEl =\n",
              "        document.querySelector('#df-6ebd9f8f-4bc3-4b9b-b555-085d34eeb175 button.colab-df-convert');\n",
              "      buttonEl.style.display =\n",
              "        google.colab.kernel.accessAllowed ? 'block' : 'none';\n",
              "\n",
              "      async function convertToInteractive(key) {\n",
              "        const element = document.querySelector('#df-6ebd9f8f-4bc3-4b9b-b555-085d34eeb175');\n",
              "        const dataTable =\n",
              "          await google.colab.kernel.invokeFunction('convertToInteractive',\n",
              "                                                    [key], {});\n",
              "        if (!dataTable) return;\n",
              "\n",
              "        const docLinkHtml = 'Like what you see? Visit the ' +\n",
              "          '<a target=\"_blank\" href=https://colab.research.google.com/notebooks/data_table.ipynb>data table notebook</a>'\n",
              "          + ' to learn more about interactive tables.';\n",
              "        element.innerHTML = '';\n",
              "        dataTable['output_type'] = 'display_data';\n",
              "        await google.colab.output.renderOutput(dataTable, element);\n",
              "        const docLink = document.createElement('div');\n",
              "        docLink.innerHTML = docLinkHtml;\n",
              "        element.appendChild(docLink);\n",
              "      }\n",
              "    </script>\n",
              "  </div>\n",
              "\n",
              "\n",
              "<div id=\"df-1e3df96b-8ed3-4fac-a7e7-c1dcba69084c\">\n",
              "  <button class=\"colab-df-quickchart\" onclick=\"quickchart('df-1e3df96b-8ed3-4fac-a7e7-c1dcba69084c')\"\n",
              "            title=\"Suggest charts\"\n",
              "            style=\"display:none;\">\n",
              "\n",
              "<svg xmlns=\"http://www.w3.org/2000/svg\" height=\"24px\"viewBox=\"0 0 24 24\"\n",
              "     width=\"24px\">\n",
              "    <g>\n",
              "        <path d=\"M19 3H5c-1.1 0-2 .9-2 2v14c0 1.1.9 2 2 2h14c1.1 0 2-.9 2-2V5c0-1.1-.9-2-2-2zM9 17H7v-7h2v7zm4 0h-2V7h2v10zm4 0h-2v-4h2v4z\"/>\n",
              "    </g>\n",
              "</svg>\n",
              "  </button>\n",
              "\n",
              "<style>\n",
              "  .colab-df-quickchart {\n",
              "      --bg-color: #E8F0FE;\n",
              "      --fill-color: #1967D2;\n",
              "      --hover-bg-color: #E2EBFA;\n",
              "      --hover-fill-color: #174EA6;\n",
              "      --disabled-fill-color: #AAA;\n",
              "      --disabled-bg-color: #DDD;\n",
              "  }\n",
              "\n",
              "  [theme=dark] .colab-df-quickchart {\n",
              "      --bg-color: #3B4455;\n",
              "      --fill-color: #D2E3FC;\n",
              "      --hover-bg-color: #434B5C;\n",
              "      --hover-fill-color: #FFFFFF;\n",
              "      --disabled-bg-color: #3B4455;\n",
              "      --disabled-fill-color: #666;\n",
              "  }\n",
              "\n",
              "  .colab-df-quickchart {\n",
              "    background-color: var(--bg-color);\n",
              "    border: none;\n",
              "    border-radius: 50%;\n",
              "    cursor: pointer;\n",
              "    display: none;\n",
              "    fill: var(--fill-color);\n",
              "    height: 32px;\n",
              "    padding: 0;\n",
              "    width: 32px;\n",
              "  }\n",
              "\n",
              "  .colab-df-quickchart:hover {\n",
              "    background-color: var(--hover-bg-color);\n",
              "    box-shadow: 0 1px 2px rgba(60, 64, 67, 0.3), 0 1px 3px 1px rgba(60, 64, 67, 0.15);\n",
              "    fill: var(--button-hover-fill-color);\n",
              "  }\n",
              "\n",
              "  .colab-df-quickchart-complete:disabled,\n",
              "  .colab-df-quickchart-complete:disabled:hover {\n",
              "    background-color: var(--disabled-bg-color);\n",
              "    fill: var(--disabled-fill-color);\n",
              "    box-shadow: none;\n",
              "  }\n",
              "\n",
              "  .colab-df-spinner {\n",
              "    border: 2px solid var(--fill-color);\n",
              "    border-color: transparent;\n",
              "    border-bottom-color: var(--fill-color);\n",
              "    animation:\n",
              "      spin 1s steps(1) infinite;\n",
              "  }\n",
              "\n",
              "  @keyframes spin {\n",
              "    0% {\n",
              "      border-color: transparent;\n",
              "      border-bottom-color: var(--fill-color);\n",
              "      border-left-color: var(--fill-color);\n",
              "    }\n",
              "    20% {\n",
              "      border-color: transparent;\n",
              "      border-left-color: var(--fill-color);\n",
              "      border-top-color: var(--fill-color);\n",
              "    }\n",
              "    30% {\n",
              "      border-color: transparent;\n",
              "      border-left-color: var(--fill-color);\n",
              "      border-top-color: var(--fill-color);\n",
              "      border-right-color: var(--fill-color);\n",
              "    }\n",
              "    40% {\n",
              "      border-color: transparent;\n",
              "      border-right-color: var(--fill-color);\n",
              "      border-top-color: var(--fill-color);\n",
              "    }\n",
              "    60% {\n",
              "      border-color: transparent;\n",
              "      border-right-color: var(--fill-color);\n",
              "    }\n",
              "    80% {\n",
              "      border-color: transparent;\n",
              "      border-right-color: var(--fill-color);\n",
              "      border-bottom-color: var(--fill-color);\n",
              "    }\n",
              "    90% {\n",
              "      border-color: transparent;\n",
              "      border-bottom-color: var(--fill-color);\n",
              "    }\n",
              "  }\n",
              "</style>\n",
              "\n",
              "  <script>\n",
              "    async function quickchart(key) {\n",
              "      const quickchartButtonEl =\n",
              "        document.querySelector('#' + key + ' button');\n",
              "      quickchartButtonEl.disabled = true;  // To prevent multiple clicks.\n",
              "      quickchartButtonEl.classList.add('colab-df-spinner');\n",
              "      try {\n",
              "        const charts = await google.colab.kernel.invokeFunction(\n",
              "            'suggestCharts', [key], {});\n",
              "      } catch (error) {\n",
              "        console.error('Error during call to suggestCharts:', error);\n",
              "      }\n",
              "      quickchartButtonEl.classList.remove('colab-df-spinner');\n",
              "      quickchartButtonEl.classList.add('colab-df-quickchart-complete');\n",
              "    }\n",
              "    (() => {\n",
              "      let quickchartButtonEl =\n",
              "        document.querySelector('#df-1e3df96b-8ed3-4fac-a7e7-c1dcba69084c button');\n",
              "      quickchartButtonEl.style.display =\n",
              "        google.colab.kernel.accessAllowed ? 'block' : 'none';\n",
              "    })();\n",
              "  </script>\n",
              "</div>\n",
              "\n",
              "    </div>\n",
              "  </div>\n"
            ],
            "application/vnd.google.colaboratory.intrinsic+json": {
              "type": "dataframe",
              "variable_name": "df",
              "summary": "{\n  \"name\": \"df\",\n  \"rows\": 200,\n  \"fields\": [\n    {\n      \"column\": \"id\",\n      \"properties\": {\n        \"dtype\": \"number\",\n        \"std\": 57,\n        \"min\": 1,\n        \"max\": 200,\n        \"num_unique_values\": 200,\n        \"samples\": [\n          173,\n          115,\n          126\n        ],\n        \"semantic_type\": \"\",\n        \"description\": \"\"\n      }\n    },\n    {\n      \"column\": \"female\",\n      \"properties\": {\n        \"dtype\": \"category\",\n        \"num_unique_values\": 2,\n        \"samples\": [\n          \"female\",\n          \"male\"\n        ],\n        \"semantic_type\": \"\",\n        \"description\": \"\"\n      }\n    },\n    {\n      \"column\": \"race\",\n      \"properties\": {\n        \"dtype\": \"category\",\n        \"num_unique_values\": 4,\n        \"samples\": [\n          \"african-amer\",\n          \"asian\"\n        ],\n        \"semantic_type\": \"\",\n        \"description\": \"\"\n      }\n    },\n    {\n      \"column\": \"ses\",\n      \"properties\": {\n        \"dtype\": \"category\",\n        \"num_unique_values\": 3,\n        \"samples\": [\n          \"low\",\n          \"middle\"\n        ],\n        \"semantic_type\": \"\",\n        \"description\": \"\"\n      }\n    },\n    {\n      \"column\": \"schtyp\",\n      \"properties\": {\n        \"dtype\": \"category\",\n        \"num_unique_values\": 2,\n        \"samples\": [\n          \"private\",\n          \"public\"\n        ],\n        \"semantic_type\": \"\",\n        \"description\": \"\"\n      }\n    },\n    {\n      \"column\": \"prog\",\n      \"properties\": {\n        \"dtype\": \"category\",\n        \"num_unique_values\": 3,\n        \"samples\": [\n          \"general\",\n          \"vocation\"\n        ],\n        \"semantic_type\": \"\",\n        \"description\": \"\"\n      }\n    },\n    {\n      \"column\": \"read\",\n      \"properties\": {\n        \"dtype\": \"number\",\n        \"std\": 10,\n        \"min\": 28,\n        \"max\": 76,\n        \"num_unique_values\": 30,\n        \"samples\": [\n          46,\n          52\n        ],\n        \"semantic_type\": \"\",\n        \"description\": \"\"\n      }\n    },\n    {\n      \"column\": \"write\",\n      \"properties\": {\n        \"dtype\": \"number\",\n        \"std\": 9,\n        \"min\": 31,\n        \"max\": 67,\n        \"num_unique_values\": 29,\n        \"samples\": [\n          50,\n          67\n        ],\n        \"semantic_type\": \"\",\n        \"description\": \"\"\n      }\n    },\n    {\n      \"column\": \"math\",\n      \"properties\": {\n        \"dtype\": \"number\",\n        \"std\": 9,\n        \"min\": 33,\n        \"max\": 75,\n        \"num_unique_values\": 40,\n        \"samples\": [\n          64,\n          46\n        ],\n        \"semantic_type\": \"\",\n        \"description\": \"\"\n      }\n    },\n    {\n      \"column\": \"science\",\n      \"properties\": {\n        \"dtype\": \"number\",\n        \"std\": 9,\n        \"min\": 26,\n        \"max\": 74,\n        \"num_unique_values\": 34,\n        \"samples\": [\n          49,\n          56\n        ],\n        \"semantic_type\": \"\",\n        \"description\": \"\"\n      }\n    },\n    {\n      \"column\": \"socst\",\n      \"properties\": {\n        \"dtype\": \"number\",\n        \"std\": 10,\n        \"min\": 26,\n        \"max\": 71,\n        \"num_unique_values\": 22,\n        \"samples\": [\n          57,\n          26\n        ],\n        \"semantic_type\": \"\",\n        \"description\": \"\"\n      }\n    }\n  ]\n}"
            }
          },
          "metadata": {},
          "execution_count": 2
        }
      ]
    },
    {
      "cell_type": "code",
      "source": [
        "df.columns"
      ],
      "metadata": {
        "colab": {
          "base_uri": "https://localhost:8080/"
        },
        "id": "9IRplHc1OGxr",
        "outputId": "b2f208a1-87f1-4037-b840-ea999d68643f"
      },
      "execution_count": 3,
      "outputs": [
        {
          "output_type": "execute_result",
          "data": {
            "text/plain": [
              "Index(['id', 'female', 'race', 'ses', 'schtyp', 'prog', 'read', 'write',\n",
              "       'math', 'science', 'socst'],\n",
              "      dtype='object')"
            ]
          },
          "metadata": {},
          "execution_count": 3
        }
      ]
    },
    {
      "cell_type": "code",
      "source": [
        "df.info()"
      ],
      "metadata": {
        "colab": {
          "base_uri": "https://localhost:8080/"
        },
        "id": "BjOAUkoIOGpF",
        "outputId": "72a8a719-6b1d-4035-f327-8754141befb3"
      },
      "execution_count": 4,
      "outputs": [
        {
          "output_type": "stream",
          "name": "stdout",
          "text": [
            "<class 'pandas.core.frame.DataFrame'>\n",
            "RangeIndex: 200 entries, 0 to 199\n",
            "Data columns (total 11 columns):\n",
            " #   Column   Non-Null Count  Dtype \n",
            "---  ------   --------------  ----- \n",
            " 0   id       200 non-null    int64 \n",
            " 1   female   200 non-null    object\n",
            " 2   race     200 non-null    object\n",
            " 3   ses      200 non-null    object\n",
            " 4   schtyp   200 non-null    object\n",
            " 5   prog     200 non-null    object\n",
            " 6   read     200 non-null    int64 \n",
            " 7   write    200 non-null    int64 \n",
            " 8   math     200 non-null    int64 \n",
            " 9   science  200 non-null    int64 \n",
            " 10  socst    200 non-null    int64 \n",
            "dtypes: int64(6), object(5)\n",
            "memory usage: 17.3+ KB\n"
          ]
        }
      ]
    },
    {
      "cell_type": "markdown",
      "source": [
        "*** Pearson’s Correlation ***"
      ],
      "metadata": {
        "id": "uNASW5l2OHTV"
      }
    },
    {
      "cell_type": "code",
      "source": [
        "### Pearson’s Correlation\n",
        "df[['read','write', 'math', 'socst']].corr()"
      ],
      "metadata": {
        "colab": {
          "base_uri": "https://localhost:8080/",
          "height": 175
        },
        "id": "7e9Ttly0OIsC",
        "outputId": "9a194a43-615b-4c4d-fad7-a240965bb3cd"
      },
      "execution_count": 5,
      "outputs": [
        {
          "output_type": "execute_result",
          "data": {
            "text/plain": [
              "           read     write      math     socst\n",
              "read   1.000000  0.596776  0.662280  0.621484\n",
              "write  0.596776  1.000000  0.617449  0.604793\n",
              "math   0.662280  0.617449  1.000000  0.544480\n",
              "socst  0.621484  0.604793  0.544480  1.000000"
            ],
            "text/html": [
              "\n",
              "  <div id=\"df-a0f548f4-c79a-4aa9-ba4d-08ea7f54fc4c\" class=\"colab-df-container\">\n",
              "    <div>\n",
              "<style scoped>\n",
              "    .dataframe tbody tr th:only-of-type {\n",
              "        vertical-align: middle;\n",
              "    }\n",
              "\n",
              "    .dataframe tbody tr th {\n",
              "        vertical-align: top;\n",
              "    }\n",
              "\n",
              "    .dataframe thead th {\n",
              "        text-align: right;\n",
              "    }\n",
              "</style>\n",
              "<table border=\"1\" class=\"dataframe\">\n",
              "  <thead>\n",
              "    <tr style=\"text-align: right;\">\n",
              "      <th></th>\n",
              "      <th>read</th>\n",
              "      <th>write</th>\n",
              "      <th>math</th>\n",
              "      <th>socst</th>\n",
              "    </tr>\n",
              "  </thead>\n",
              "  <tbody>\n",
              "    <tr>\n",
              "      <th>read</th>\n",
              "      <td>1.000000</td>\n",
              "      <td>0.596776</td>\n",
              "      <td>0.662280</td>\n",
              "      <td>0.621484</td>\n",
              "    </tr>\n",
              "    <tr>\n",
              "      <th>write</th>\n",
              "      <td>0.596776</td>\n",
              "      <td>1.000000</td>\n",
              "      <td>0.617449</td>\n",
              "      <td>0.604793</td>\n",
              "    </tr>\n",
              "    <tr>\n",
              "      <th>math</th>\n",
              "      <td>0.662280</td>\n",
              "      <td>0.617449</td>\n",
              "      <td>1.000000</td>\n",
              "      <td>0.544480</td>\n",
              "    </tr>\n",
              "    <tr>\n",
              "      <th>socst</th>\n",
              "      <td>0.621484</td>\n",
              "      <td>0.604793</td>\n",
              "      <td>0.544480</td>\n",
              "      <td>1.000000</td>\n",
              "    </tr>\n",
              "  </tbody>\n",
              "</table>\n",
              "</div>\n",
              "    <div class=\"colab-df-buttons\">\n",
              "\n",
              "  <div class=\"colab-df-container\">\n",
              "    <button class=\"colab-df-convert\" onclick=\"convertToInteractive('df-a0f548f4-c79a-4aa9-ba4d-08ea7f54fc4c')\"\n",
              "            title=\"Convert this dataframe to an interactive table.\"\n",
              "            style=\"display:none;\">\n",
              "\n",
              "  <svg xmlns=\"http://www.w3.org/2000/svg\" height=\"24px\" viewBox=\"0 -960 960 960\">\n",
              "    <path d=\"M120-120v-720h720v720H120Zm60-500h600v-160H180v160Zm220 220h160v-160H400v160Zm0 220h160v-160H400v160ZM180-400h160v-160H180v160Zm440 0h160v-160H620v160ZM180-180h160v-160H180v160Zm440 0h160v-160H620v160Z\"/>\n",
              "  </svg>\n",
              "    </button>\n",
              "\n",
              "  <style>\n",
              "    .colab-df-container {\n",
              "      display:flex;\n",
              "      gap: 12px;\n",
              "    }\n",
              "\n",
              "    .colab-df-convert {\n",
              "      background-color: #E8F0FE;\n",
              "      border: none;\n",
              "      border-radius: 50%;\n",
              "      cursor: pointer;\n",
              "      display: none;\n",
              "      fill: #1967D2;\n",
              "      height: 32px;\n",
              "      padding: 0 0 0 0;\n",
              "      width: 32px;\n",
              "    }\n",
              "\n",
              "    .colab-df-convert:hover {\n",
              "      background-color: #E2EBFA;\n",
              "      box-shadow: 0px 1px 2px rgba(60, 64, 67, 0.3), 0px 1px 3px 1px rgba(60, 64, 67, 0.15);\n",
              "      fill: #174EA6;\n",
              "    }\n",
              "\n",
              "    .colab-df-buttons div {\n",
              "      margin-bottom: 4px;\n",
              "    }\n",
              "\n",
              "    [theme=dark] .colab-df-convert {\n",
              "      background-color: #3B4455;\n",
              "      fill: #D2E3FC;\n",
              "    }\n",
              "\n",
              "    [theme=dark] .colab-df-convert:hover {\n",
              "      background-color: #434B5C;\n",
              "      box-shadow: 0px 1px 3px 1px rgba(0, 0, 0, 0.15);\n",
              "      filter: drop-shadow(0px 1px 2px rgba(0, 0, 0, 0.3));\n",
              "      fill: #FFFFFF;\n",
              "    }\n",
              "  </style>\n",
              "\n",
              "    <script>\n",
              "      const buttonEl =\n",
              "        document.querySelector('#df-a0f548f4-c79a-4aa9-ba4d-08ea7f54fc4c button.colab-df-convert');\n",
              "      buttonEl.style.display =\n",
              "        google.colab.kernel.accessAllowed ? 'block' : 'none';\n",
              "\n",
              "      async function convertToInteractive(key) {\n",
              "        const element = document.querySelector('#df-a0f548f4-c79a-4aa9-ba4d-08ea7f54fc4c');\n",
              "        const dataTable =\n",
              "          await google.colab.kernel.invokeFunction('convertToInteractive',\n",
              "                                                    [key], {});\n",
              "        if (!dataTable) return;\n",
              "\n",
              "        const docLinkHtml = 'Like what you see? Visit the ' +\n",
              "          '<a target=\"_blank\" href=https://colab.research.google.com/notebooks/data_table.ipynb>data table notebook</a>'\n",
              "          + ' to learn more about interactive tables.';\n",
              "        element.innerHTML = '';\n",
              "        dataTable['output_type'] = 'display_data';\n",
              "        await google.colab.output.renderOutput(dataTable, element);\n",
              "        const docLink = document.createElement('div');\n",
              "        docLink.innerHTML = docLinkHtml;\n",
              "        element.appendChild(docLink);\n",
              "      }\n",
              "    </script>\n",
              "  </div>\n",
              "\n",
              "\n",
              "<div id=\"df-cb479c62-ced9-44bb-a406-01c1e2d25355\">\n",
              "  <button class=\"colab-df-quickchart\" onclick=\"quickchart('df-cb479c62-ced9-44bb-a406-01c1e2d25355')\"\n",
              "            title=\"Suggest charts\"\n",
              "            style=\"display:none;\">\n",
              "\n",
              "<svg xmlns=\"http://www.w3.org/2000/svg\" height=\"24px\"viewBox=\"0 0 24 24\"\n",
              "     width=\"24px\">\n",
              "    <g>\n",
              "        <path d=\"M19 3H5c-1.1 0-2 .9-2 2v14c0 1.1.9 2 2 2h14c1.1 0 2-.9 2-2V5c0-1.1-.9-2-2-2zM9 17H7v-7h2v7zm4 0h-2V7h2v10zm4 0h-2v-4h2v4z\"/>\n",
              "    </g>\n",
              "</svg>\n",
              "  </button>\n",
              "\n",
              "<style>\n",
              "  .colab-df-quickchart {\n",
              "      --bg-color: #E8F0FE;\n",
              "      --fill-color: #1967D2;\n",
              "      --hover-bg-color: #E2EBFA;\n",
              "      --hover-fill-color: #174EA6;\n",
              "      --disabled-fill-color: #AAA;\n",
              "      --disabled-bg-color: #DDD;\n",
              "  }\n",
              "\n",
              "  [theme=dark] .colab-df-quickchart {\n",
              "      --bg-color: #3B4455;\n",
              "      --fill-color: #D2E3FC;\n",
              "      --hover-bg-color: #434B5C;\n",
              "      --hover-fill-color: #FFFFFF;\n",
              "      --disabled-bg-color: #3B4455;\n",
              "      --disabled-fill-color: #666;\n",
              "  }\n",
              "\n",
              "  .colab-df-quickchart {\n",
              "    background-color: var(--bg-color);\n",
              "    border: none;\n",
              "    border-radius: 50%;\n",
              "    cursor: pointer;\n",
              "    display: none;\n",
              "    fill: var(--fill-color);\n",
              "    height: 32px;\n",
              "    padding: 0;\n",
              "    width: 32px;\n",
              "  }\n",
              "\n",
              "  .colab-df-quickchart:hover {\n",
              "    background-color: var(--hover-bg-color);\n",
              "    box-shadow: 0 1px 2px rgba(60, 64, 67, 0.3), 0 1px 3px 1px rgba(60, 64, 67, 0.15);\n",
              "    fill: var(--button-hover-fill-color);\n",
              "  }\n",
              "\n",
              "  .colab-df-quickchart-complete:disabled,\n",
              "  .colab-df-quickchart-complete:disabled:hover {\n",
              "    background-color: var(--disabled-bg-color);\n",
              "    fill: var(--disabled-fill-color);\n",
              "    box-shadow: none;\n",
              "  }\n",
              "\n",
              "  .colab-df-spinner {\n",
              "    border: 2px solid var(--fill-color);\n",
              "    border-color: transparent;\n",
              "    border-bottom-color: var(--fill-color);\n",
              "    animation:\n",
              "      spin 1s steps(1) infinite;\n",
              "  }\n",
              "\n",
              "  @keyframes spin {\n",
              "    0% {\n",
              "      border-color: transparent;\n",
              "      border-bottom-color: var(--fill-color);\n",
              "      border-left-color: var(--fill-color);\n",
              "    }\n",
              "    20% {\n",
              "      border-color: transparent;\n",
              "      border-left-color: var(--fill-color);\n",
              "      border-top-color: var(--fill-color);\n",
              "    }\n",
              "    30% {\n",
              "      border-color: transparent;\n",
              "      border-left-color: var(--fill-color);\n",
              "      border-top-color: var(--fill-color);\n",
              "      border-right-color: var(--fill-color);\n",
              "    }\n",
              "    40% {\n",
              "      border-color: transparent;\n",
              "      border-right-color: var(--fill-color);\n",
              "      border-top-color: var(--fill-color);\n",
              "    }\n",
              "    60% {\n",
              "      border-color: transparent;\n",
              "      border-right-color: var(--fill-color);\n",
              "    }\n",
              "    80% {\n",
              "      border-color: transparent;\n",
              "      border-right-color: var(--fill-color);\n",
              "      border-bottom-color: var(--fill-color);\n",
              "    }\n",
              "    90% {\n",
              "      border-color: transparent;\n",
              "      border-bottom-color: var(--fill-color);\n",
              "    }\n",
              "  }\n",
              "</style>\n",
              "\n",
              "  <script>\n",
              "    async function quickchart(key) {\n",
              "      const quickchartButtonEl =\n",
              "        document.querySelector('#' + key + ' button');\n",
              "      quickchartButtonEl.disabled = true;  // To prevent multiple clicks.\n",
              "      quickchartButtonEl.classList.add('colab-df-spinner');\n",
              "      try {\n",
              "        const charts = await google.colab.kernel.invokeFunction(\n",
              "            'suggestCharts', [key], {});\n",
              "      } catch (error) {\n",
              "        console.error('Error during call to suggestCharts:', error);\n",
              "      }\n",
              "      quickchartButtonEl.classList.remove('colab-df-spinner');\n",
              "      quickchartButtonEl.classList.add('colab-df-quickchart-complete');\n",
              "    }\n",
              "    (() => {\n",
              "      let quickchartButtonEl =\n",
              "        document.querySelector('#df-cb479c62-ced9-44bb-a406-01c1e2d25355 button');\n",
              "      quickchartButtonEl.style.display =\n",
              "        google.colab.kernel.accessAllowed ? 'block' : 'none';\n",
              "    })();\n",
              "  </script>\n",
              "</div>\n",
              "\n",
              "    </div>\n",
              "  </div>\n"
            ],
            "application/vnd.google.colaboratory.intrinsic+json": {
              "type": "dataframe",
              "summary": "{\n  \"name\": \"df[['read','write', 'math', 'socst']]\",\n  \"rows\": 4,\n  \"fields\": [\n    {\n      \"column\": \"read\",\n      \"properties\": {\n        \"dtype\": \"number\",\n        \"std\": 0.18852134760450898,\n        \"min\": 0.5967764790880449,\n        \"max\": 1.0,\n        \"num_unique_values\": 4,\n        \"samples\": [\n          0.5967764790880449,\n          0.6214842723887143,\n          1.0\n        ],\n        \"semantic_type\": \"\",\n        \"description\": \"\"\n      }\n    },\n    {\n      \"column\": \"write\",\n      \"properties\": {\n        \"dtype\": \"number\",\n        \"std\": 0.19701405974580338,\n        \"min\": 0.5967764790880449,\n        \"max\": 1.0,\n        \"num_unique_values\": 4,\n        \"samples\": [\n          1.0,\n          0.6047932235263247,\n          0.5967764790880449\n        ],\n        \"semantic_type\": \"\",\n        \"description\": \"\"\n      }\n    },\n    {\n      \"column\": \"math\",\n      \"properties\": {\n        \"dtype\": \"number\",\n        \"std\": 0.20188879880523228,\n        \"min\": 0.5444803045278306,\n        \"max\": 1.0,\n        \"num_unique_values\": 4,\n        \"samples\": [\n          0.6174492644854926,\n          0.5444803045278306,\n          0.6622801251558601\n        ],\n        \"semantic_type\": \"\",\n        \"description\": \"\"\n      }\n    },\n    {\n      \"column\": \"socst\",\n      \"properties\": {\n        \"dtype\": \"number\",\n        \"std\": 0.2075264231287665,\n        \"min\": 0.5444803045278306,\n        \"max\": 1.0,\n        \"num_unique_values\": 4,\n        \"samples\": [\n          0.6047932235263247,\n          1.0,\n          0.6214842723887143\n        ],\n        \"semantic_type\": \"\",\n        \"description\": \"\"\n      }\n    }\n  ]\n}"
            }
          },
          "metadata": {},
          "execution_count": 5
        }
      ]
    },
    {
      "cell_type": "code",
      "source": [
        "### Correlation Analysis with Seaborn Visualization\n",
        "import pandas as pd\n",
        "import seaborn as sns\n",
        "import matplotlib.pyplot as plt\n",
        "\n",
        "# Assuming df is your DataFrame\n",
        "\n",
        "# Select the columns for correlation\n",
        "correlation_columns = ['read', 'write', 'math', 'socst']\n",
        "\n",
        "# Calculate the correlation matrix\n",
        "correlation_matrix = df[correlation_columns].corr()\n",
        "\n",
        "# Create a heatmap\n",
        "plt.figure(figsize=(8, 6))\n",
        "sns.heatmap(correlation_matrix, annot=True, cmap='coolwarm', linewidths=.5)\n",
        "plt.title('Correlation Heatmap')\n",
        "plt.show()"
      ],
      "metadata": {
        "colab": {
          "base_uri": "https://localhost:8080/",
          "height": 545
        },
        "id": "DG1bKnRXPXjr",
        "outputId": "57a2cb99-f0ab-4797-d5ec-e35f5b2e612c"
      },
      "execution_count": 6,
      "outputs": [
        {
          "output_type": "display_data",
          "data": {
            "text/plain": [
              "<Figure size 800x600 with 2 Axes>"
            ],
            "image/png": "[encoded data removed]"
          },
          "metadata": {}
        }
      ]
    },
    {
      "cell_type": "markdown",
      "source": [
        "*** Non-parametric correlation (Spearman’s correlation) ***"
      ],
      "metadata": {
        "id": "rCWlIpfjPx3U"
      }
    },
    {
      "cell_type": "code",
      "source": [
        "### Non-parametric correlation (Spearman’s correlation)\n",
        "import pandas as pd\n",
        "import seaborn as sns\n",
        "import matplotlib.pyplot as plt\n",
        "\n",
        "# Assuming df is your DataFrame with continuous variables\n",
        "# Select only the continuous variables\n",
        "continuous_vars = df[['read', 'write', 'math', 'socst']]\n",
        "\n",
        "# Calculate the Spearman correlation matrix\n",
        "spearman_corr_matrix = continuous_vars.corr(method='spearman')\n",
        "\n",
        "# Print the Spearman correlation matrix\n",
        "print(\"Spearman Correlation Matrix:\")\n",
        "print(spearman_corr_matrix)\n",
        "\n",
        "# Visualize the Spearman correlation matrix using a heatmap with Seaborn\n",
        "plt.figure(figsize=(10, 8))\n",
        "sns.heatmap(spearman_corr_matrix, annot=True, cmap='coolwarm', fmt='.2f', linewidths=.5)\n",
        "plt.title('Spearman Correlation Heatmap')\n",
        "plt.show()"
      ],
      "metadata": {
        "colab": {
          "base_uri": "https://localhost:8080/",
          "height": 803
        },
        "id": "s5LoHf9MUTBX",
        "outputId": "b9cbd9b9-fc5b-465c-951a-7a0b45bf850d"
      },
      "execution_count": 7,
      "outputs": [
        {
          "output_type": "stream",
          "name": "stdout",
          "text": [
            "Spearman Correlation Matrix:\n",
            "           read     write      math     socst\n",
            "read   1.000000  0.616745  0.663126  0.633171\n",
            "write  0.616745  1.000000  0.643944  0.592279\n",
            "math   0.663126  0.643944  1.000000  0.541440\n",
            "socst  0.633171  0.592279  0.541440  1.000000\n"
          ]
        },
        {
          "output_type": "display_data",
          "data": {
            "text/plain": [
              "<Figure size 1000x800 with 2 Axes>"
            ],
            "image/png": "[encoded data removed]"
          },
          "metadata": {}
        }
      ]
    },
    {
      "cell_type": "markdown",
      "source": [
        "*** Gamma, Kendal Tau B, Kendall Tau C ***"
      ],
      "metadata": {
        "id": "LrkghoxKQAvq"
      }
    },
    {
      "cell_type": "code",
      "source": [
        "### Converting Continuous Variables to Ordinal for Gamma Analysis\n",
        "# import pandas as pd\n",
        "\n",
        "# Assuming df is your DataFrame with continuous variables\n",
        "# Select only the continuous variables\n",
        "continuous_vars = df[['read', 'write', 'math', 'socst']]\n",
        "\n",
        "# Convert continuous variables to ordinal variables with 5 categories\n",
        "ordinal_vars = pd.DataFrame()\n",
        "for col in continuous_vars.columns:\n",
        "    ordinal_vars[col + '_ordinal'] = pd.qcut(continuous_vars[col], q=5, labels=False)\n",
        "\n",
        "# Concatenate the ordinal variables with the original DataFrame\n",
        "df_gamma = pd.concat([df, ordinal_vars], axis=1)\n",
        "\n",
        "# Display the updated DataFrame\n",
        "print(\"DataFrame with Ordinal Variables:\")\n",
        "print(df_gamma.head())"
      ],
      "metadata": {
        "colab": {
          "base_uri": "https://localhost:8080/"
        },
        "id": "4yZZLLM0PXbH",
        "outputId": "eb36d9a1-742a-499a-c31c-968130d770b6"
      },
      "execution_count": 8,
      "outputs": [
        {
          "output_type": "stream",
          "name": "stdout",
          "text": [
            "DataFrame with Ordinal Variables:\n",
            "    id  female   race     ses  schtyp      prog  read  write  math  science  \\\n",
            "0   70    male  white     low  public   general    57     52    41       47   \n",
            "1  121  female  white  middle  public  vocation    68     59    53       63   \n",
            "2   86    male  white    high  public   general    44     33    54       58   \n",
            "3  141    male  white    high  public  vocation    63     44    47       53   \n",
            "4  172    male  white  middle  public  academic    47     52    57       53   \n",
            "\n",
            "   socst  read_ordinal  write_ordinal  math_ordinal  socst_ordinal  \n",
            "0     57             3              1             0              3  \n",
            "1     61             4              3             2              3  \n",
            "2     31             0              0             2              0  \n",
            "3     56             3              0             1              2  \n",
            "4     61             1              1             3              3  \n"
          ]
        }
      ]
    },
    {
      "cell_type": "code",
      "source": [
        "### Ecaminining the new columns\n",
        "df_gamma.columns"
      ],
      "metadata": {
        "colab": {
          "base_uri": "https://localhost:8080/"
        },
        "id": "WOU_-tMTPXWy",
        "outputId": "e9a5eef0-f89a-41ed-f937-22ad6d684cb6"
      },
      "execution_count": 9,
      "outputs": [
        {
          "output_type": "execute_result",
          "data": {
            "text/plain": [
              "Index(['id', 'female', 'race', 'ses', 'schtyp', 'prog', 'read', 'write',\n",
              "       'math', 'science', 'socst', 'read_ordinal', 'write_ordinal',\n",
              "       'math_ordinal', 'socst_ordinal'],\n",
              "      dtype='object')"
            ]
          },
          "metadata": {},
          "execution_count": 9
        }
      ]
    },
    {
      "cell_type": "code",
      "source": [
        "### Examining the distribution of new variable \"math_ordinal\"\n",
        "df_gamma['math_ordinal'].value_counts()"
      ],
      "metadata": {
        "colab": {
          "base_uri": "https://localhost:8080/"
        },
        "id": "C3DXCqaxPXSu",
        "outputId": "bbcffb01-32d9-4fb3-d9cc-664e5453784f"
      },
      "execution_count": 10,
      "outputs": [
        {
          "output_type": "execute_result",
          "data": {
            "text/plain": [
              "2    43\n",
              "0    42\n",
              "3    40\n",
              "1    38\n",
              "4    37\n",
              "Name: math_ordinal, dtype: int64"
            ]
          },
          "metadata": {},
          "execution_count": 10
        }
      ]
    },
    {
      "cell_type": "code",
      "source": [
        "### Gamma (association test-ordinal variables 1)\n",
        "### GAMMA TEST\n",
        "import scipy.stats\n",
        "\n",
        "# Assuming df_gamma is your DataFrame\n",
        "read_ordinal = df_gamma['read_ordinal']\n",
        "write_ordinal = df_gamma['write_ordinal']\n",
        "\n",
        "# Gamma Test\n",
        "gamma_result = scipy.stats.somersd(read_ordinal, write_ordinal)\n",
        "gamma_stat = gamma_result.statistic\n",
        "gamma_p_value = gamma_result.pvalue\n",
        "print(f\"Gamma Test - read_ordinal vs write_ordinal: Statistic = {gamma_stat}, p-value = {gamma_p_value:.4f}\")"
      ],
      "metadata": {
        "colab": {
          "base_uri": "https://localhost:8080/"
        },
        "id": "zSnaYd-3PW34",
        "outputId": "889e2229-3736-4e30-9c95-3bdbe1767f36"
      },
      "execution_count": 11,
      "outputs": [
        {
          "output_type": "stream",
          "name": "stdout",
          "text": [
            "Gamma Test - read_ordinal vs write_ordinal: Statistic = 0.4994302355026589, p-value = 0.0000\n"
          ]
        }
      ]
    },
    {
      "cell_type": "markdown",
      "source": [
        "*** Kendal Tau-B (association test-ordinal variables 2) ***"
      ],
      "metadata": {
        "id": "_SLcTj81RSPs"
      }
    },
    {
      "cell_type": "code",
      "source": [
        "### Kendal Tau-B (association test-ordinal variables 2)\n",
        "import scipy.stats\n",
        "\n",
        "# Assuming df_gamma is your DataFrame\n",
        "read_ordinal = df_gamma['read_ordinal']\n",
        "write_ordinal = df_gamma['write_ordinal']\n",
        "\n",
        "# Kendall Tau-B Test\n",
        "kendall_tau_b_result = scipy.stats.kendalltau(read_ordinal, write_ordinal, variant='b')\n",
        "kendall_tau_b_stat = kendall_tau_b_result.correlation\n",
        "kendall_tau_b_p_value = kendall_tau_b_result.pvalue\n",
        "print(f\"Kendall Tau-B Test - read_ordinal vs write_ordinal: Statistic = {kendall_tau_b_stat}, p-value = {kendall_tau_b_p_value:.4f}\")"
      ],
      "metadata": {
        "colab": {
          "base_uri": "https://localhost:8080/"
        },
        "id": "MC9lq7xVRR2B",
        "outputId": "514a2d56-ae94-49c1-84ae-8f7cb246ae1c"
      },
      "execution_count": 12,
      "outputs": [
        {
          "output_type": "stream",
          "name": "stdout",
          "text": [
            "Kendall Tau-B Test - read_ordinal vs write_ordinal: Statistic = 0.49952511507204905, p-value = 0.0000\n"
          ]
        }
      ]
    },
    {
      "cell_type": "code",
      "source": [
        "### Kendal Tau-C (association test-ordinal variables 3):\n",
        "import scipy.stats\n",
        "\n",
        "# Assuming df_gamma is your DataFrame\n",
        "read_ordinal = df_gamma['read_ordinal']\n",
        "write_ordinal = df_gamma['write_ordinal']\n",
        "\n",
        "kendall_tau_c_result = scipy.stats.kendalltau(read_ordinal, write_ordinal, variant='c')\n",
        "kendall_tau_c_stat = kendall_tau_c_result.correlation\n",
        "kendall_tau_c_p_value = kendall_tau_c_result.pvalue\n",
        "print(f\"Kendall Tau-C Test - read_ordinal vs write_ordinal: Statistic = {kendall_tau_c_stat}, p-value = {kendall_tau_c_p_value:.4f}\")"
      ],
      "metadata": {
        "colab": {
          "base_uri": "https://localhost:8080/"
        },
        "id": "n5ugoCoiRRvj",
        "outputId": "3ec16f6a-6b41-4265-c54e-a6f22fb3dd05"
      },
      "execution_count": 13,
      "outputs": [
        {
          "output_type": "stream",
          "name": "stdout",
          "text": [
            "Kendall Tau-C Test - read_ordinal vs write_ordinal: Statistic = 0.4930625, p-value = 0.0000\n"
          ]
        }
      ]
    },
    {
      "cell_type": "code",
      "source": [
        "### Ordinal Correlation Analysis for Gamma, Kendall Tau-B, and Kendall Tau-C Tests\n",
        "\n",
        "import scipy.stats\n",
        "\n",
        "# Assuming df_gamma is your DataFrame\n",
        "read_ordinal = df_gamma['read_ordinal']\n",
        "write_ordinal = df_gamma['write_ordinal']\n",
        "\n",
        "# Gamma Test\n",
        "gamma_result = scipy.stats.somersd(read_ordinal, write_ordinal)\n",
        "gamma_stat = gamma_result.statistic\n",
        "gamma_p_value = gamma_result.pvalue\n",
        "print(f\"Gamma Test - read_ordinal vs write_ordinal: Statistic = {gamma_stat}, p-value = {gamma_p_value:.4f}\")\n",
        "\n",
        "# Kendall Tau-B Test\n",
        "kendall_tau_b_result = scipy.stats.kendalltau(read_ordinal, write_ordinal, variant='b')\n",
        "kendall_tau_b_stat = kendall_tau_b_result.correlation\n",
        "kendall_tau_b_p_value = kendall_tau_b_result.pvalue\n",
        "print(f\"Kendall Tau-B Test - read_ordinal vs write_ordinal: Statistic = {kendall_tau_b_stat}, p-value = {kendall_tau_b_p_value:.4f}\")\n",
        "\n",
        "# Kendall Tau-C Test\n",
        "kendall_tau_c_result = scipy.stats.kendalltau(read_ordinal, write_ordinal, variant='c')\n",
        "kendall_tau_c_stat = kendall_tau_c_result.correlation\n",
        "kendall_tau_c_p_value = kendall_tau_c_result.pvalue\n",
        "print(f\"Kendall Tau-C Test - read_ordinal vs write_ordinal: Statistic = {kendall_tau_c_stat}, p-value = {kendall_tau_c_p_value:.4f}\")"
      ],
      "metadata": {
        "colab": {
          "base_uri": "https://localhost:8080/"
        },
        "id": "BrmofpuVRRr5",
        "outputId": "fd6b6fe1-f111-4493-808c-9530f2723bc6"
      },
      "execution_count": 14,
      "outputs": [
        {
          "output_type": "stream",
          "name": "stdout",
          "text": [
            "Gamma Test - read_ordinal vs write_ordinal: Statistic = 0.4994302355026589, p-value = 0.0000\n",
            "Kendall Tau-B Test - read_ordinal vs write_ordinal: Statistic = 0.49952511507204905, p-value = 0.0000\n",
            "Kendall Tau-C Test - read_ordinal vs write_ordinal: Statistic = 0.4930625, p-value = 0.0000\n"
          ]
        }
      ]
    },
    {
      "cell_type": "markdown",
      "source": [
        "*** Canonical correlation ***"
      ],
      "metadata": {
        "id": "QZCzIp9TSJ15"
      }
    },
    {
      "cell_type": "code",
      "source": [
        "### Converting Categorical Variables to Numeric Representation\n",
        "\n",
        "# Assume variables specified properly\n",
        "### CONVERT \"female\" Variable LABELS TO NUMERIC 0 AND 1\n",
        "\n",
        "# Assuming df is your DataFrame\n",
        "df['female_numeric'] = df['female'].map({'male': 0, 'female': 1})\n",
        "\n",
        "# Display the updated DataFrame\n",
        "print(df[['female', 'female_numeric']])\n",
        "\n",
        "from sklearn.preprocessing import LabelEncoder\n",
        "\n",
        "# Assuming df is your DataFrame\n",
        "label_encoder = LabelEncoder()\n",
        "\n",
        "# Convert \"race\" to numeric\n",
        "df['race_numeric'] = label_encoder.fit_transform(df['race'])\n",
        "\n",
        "# Convert \"ses\" to numeric\n",
        "df['ses_numeric'] = label_encoder.fit_transform(df['ses'])\n",
        "\n",
        "# Convert \"schtyp\" to numeric\n",
        "df['schtyp_numeric'] = label_encoder.fit_transform(df['schtyp'])\n",
        "\n",
        "# Convert \"prog\" to numeric\n",
        "df['prog_numeric'] = label_encoder.fit_transform(df['prog'])\n",
        "\n",
        "# Display the updated DataFrame\n",
        "print(df[['race', 'race_numeric', 'ses', 'ses_numeric', 'schtyp', 'schtyp_numeric', 'prog', 'prog_numeric']])\n",
        "\n",
        "df.columns"
      ],
      "metadata": {
        "colab": {
          "base_uri": "https://localhost:8080/"
        },
        "id": "fnrmJy56RRnl",
        "outputId": "f99773ac-b125-4686-ac10-2f298740352b"
      },
      "execution_count": 15,
      "outputs": [
        {
          "output_type": "stream",
          "name": "stdout",
          "text": [
            "     female  female_numeric\n",
            "0      male               0\n",
            "1    female               1\n",
            "2      male               0\n",
            "3      male               0\n",
            "4      male               0\n",
            "..      ...             ...\n",
            "195  female               1\n",
            "196  female               1\n",
            "197  female               1\n",
            "198  female               1\n",
            "199  female               1\n",
            "\n",
            "[200 rows x 2 columns]\n",
            "      race  race_numeric     ses  ses_numeric   schtyp  schtyp_numeric  \\\n",
            "0    white             3     low            1   public               1   \n",
            "1    white             3  middle            2   public               1   \n",
            "2    white             3    high            0   public               1   \n",
            "3    white             3    high            0   public               1   \n",
            "4    white             3  middle            2   public               1   \n",
            "..     ...           ...     ...          ...      ...             ...   \n",
            "195  asian             1  middle            2  private               0   \n",
            "196  white             3  middle            2   public               1   \n",
            "197  white             3  middle            2  private               0   \n",
            "198  white             3  middle            2   public               1   \n",
            "199  white             3    high            0   public               1   \n",
            "\n",
            "         prog  prog_numeric  \n",
            "0     general             1  \n",
            "1    vocation             2  \n",
            "2     general             1  \n",
            "3    vocation             2  \n",
            "4    academic             0  \n",
            "..        ...           ...  \n",
            "195   general             1  \n",
            "196  vocation             2  \n",
            "197   general             1  \n",
            "198   general             1  \n",
            "199  academic             0  \n",
            "\n",
            "[200 rows x 8 columns]\n"
          ]
        },
        {
          "output_type": "execute_result",
          "data": {
            "text/plain": [
              "Index(['id', 'female', 'race', 'ses', 'schtyp', 'prog', 'read', 'write',\n",
              "       'math', 'science', 'socst', 'female_numeric', 'race_numeric',\n",
              "       'ses_numeric', 'schtyp_numeric', 'prog_numeric'],\n",
              "      dtype='object')"
            ]
          },
          "metadata": {},
          "execution_count": 15
        }
      ]
    },
    {
      "cell_type": "code",
      "source": [
        "#### Canonical Procedure Implementation\n",
        "\n",
        "import pandas as pd\n",
        "from sklearn.cross_decomposition import CCA\n",
        "\n",
        "# Define input features\n",
        "X_cols = ['read', 'write', 'math', 'science', 'socst']\n",
        "Y_cols = ['female_numeric', 'ses_numeric', 'schtyp_numeric', 'prog_numeric', 'race_numeric']\n",
        "\n",
        "# Fit on NumPy arrays to avoid column name issues\n",
        "X_arr = df[X_cols].to_numpy()\n",
        "Y_arr = df[Y_cols].to_numpy()\n",
        "\n",
        "# Suppress warning about feature names\n",
        "import warnings\n",
        "warnings.filterwarnings(\"ignore\")\n",
        "\n",
        "cca = CCA(n_components=2)\n",
        "cca.fit(X_arr, Y_arr)\n",
        "\n",
        "# Transform on DataFrames\n",
        "X_transformed = cca.transform(df[X_cols])\n",
        "Y_transformed = cca.transform(df[Y_cols])\n",
        "\n",
        "# Print transformed data\n",
        "print(pd.DataFrame(X_transformed, columns=['X_Comp1', 'X_Comp2']))\n",
        "print(pd.DataFrame(Y_transformed, columns=['Y_Comp1', 'Y_Comp2']))"
      ],
      "metadata": {
        "colab": {
          "base_uri": "https://localhost:8080/"
        },
        "id": "SXtvTp3UYE-K",
        "outputId": "be1a42a7-cf3b-4cb3-a20a-ce2aa1c3fa9f"
      },
      "execution_count": 18,
      "outputs": [
        {
          "output_type": "stream",
          "name": "stdout",
          "text": [
            "      X_Comp1   X_Comp2\n",
            "0   -0.320094 -0.324905\n",
            "1    0.709838  0.685103\n",
            "2   -2.380089  1.938792\n",
            "3   -0.560489  1.043952\n",
            "4    0.455705  0.140223\n",
            "..        ...       ...\n",
            "195  0.851103 -1.218141\n",
            "196 -1.271249 -1.049629\n",
            "197 -0.477775  1.442183\n",
            "198  1.114206 -0.177266\n",
            "199  2.025222 -0.542836\n",
            "\n",
            "[200 rows x 2 columns]\n",
            "      Y_Comp1   Y_Comp2\n",
            "0   -7.781055 -1.350749\n",
            "1   -7.733230 -1.341918\n",
            "2   -7.841754 -1.262270\n",
            "3   -7.872954 -1.187314\n",
            "4   -7.689155 -1.514185\n",
            "..        ...       ...\n",
            "195 -7.848852 -1.440510\n",
            "196 -7.733230 -1.341918\n",
            "197 -7.762931 -1.430564\n",
            "198 -7.702029 -1.416875\n",
            "199 -7.792228 -1.314874\n",
            "\n",
            "[200 rows x 2 columns]\n"
          ]
        }
      ]
    },
    {
      "cell_type": "markdown",
      "source": [
        "*** Canonical Correlation with three Components ***"
      ],
      "metadata": {
        "id": "XEr8LDxCSwiP"
      }
    },
    {
      "cell_type": "code",
      "source": [
        "### Canonical Correlation with three Components\n",
        "\n",
        "from sklearn.cross_decomposition import CCA\n",
        "import pandas as pd\n",
        "\n",
        "# Assuming your data is stored in a DataFrame called df\n",
        "# Selecting the variables for canonical correlation analysis\n",
        "X = df[['read', 'write', 'math', 'science']]\n",
        "Y = df[['ses_numeric', 'socst', 'race_numeric']]\n",
        "\n",
        "# Instantiating the CCA object and fitting the model\n",
        "cca = CCA(n_components=3)\n",
        "cca.fit(X, Y)\n",
        "\n",
        "# Transforming the original variables to canonical variables\n",
        "X_c, Y_c = cca.transform(X, Y)\n",
        "\n",
        "# Printing the shapes of the canonical variables\n",
        "n_components = cca.n_components\n",
        "print(\"Canonical Variables for X:\")\n",
        "print(pd.DataFrame(X_c, columns=[f'Canonical_Component_{i+1}' for i in range(n_components)]))\n",
        "\n",
        "print(\"\\nCanonical Variables for Y:\")\n",
        "print(pd.DataFrame(Y_c, columns=[f'Canonical_Component_{i+1}' for i in range(n_components)]))\n",
        "\n",
        "# Added Function to Increase Size of Visible Output\n",
        "pd.set_option('display.max_rows', 20)  # Set the maximum number of rows to 20\n",
        "pd.set_option('display.max_columns', 10)  # Set the maximum number of columns to 1"
      ],
      "metadata": {
        "colab": {
          "base_uri": "https://localhost:8080/"
        },
        "id": "rom6GoL4RRfI",
        "outputId": "15d01a72-8fbf-490b-8a3f-aa37cf29fea4"
      },
      "execution_count": 17,
      "outputs": [
        {
          "output_type": "stream",
          "name": "stdout",
          "text": [
            "Canonical Variables for X:\n",
            "     Canonical_Component_1  Canonical_Component_2  Canonical_Component_3\n",
            "0                -0.034244              -0.303142              -0.032505\n",
            "1                 1.696570               0.450975              -0.179496\n",
            "2                -1.789401               1.594899              -0.939802\n",
            "3                 0.084785               0.387132              -1.049609\n",
            "4                -0.314576               0.166763               0.111117\n",
            "..                     ...                    ...                    ...\n",
            "195               0.472505              -1.244882               0.114401\n",
            "196              -1.719206              -0.717020               0.215943\n",
            "197              -0.291813               0.644804              -1.240522\n",
            "198               1.007431               0.014918               0.494422\n",
            "199               1.881300              -0.874606              -0.086723\n",
            "\n",
            "[200 rows x 3 columns]\n",
            "\n",
            "Canonical Variables for Y:\n",
            "     Canonical_Component_1  Canonical_Component_2  Canonical_Component_3\n",
            "0                 0.560273               0.365482              -0.088214\n",
            "1                 0.780499               0.216395               1.151441\n",
            "2                -1.642437               1.226310              -1.873442\n",
            "3                 0.610386               0.417512              -1.253473\n",
            "4                 0.780499               0.216395               1.151441\n",
            "..                     ...                    ...                    ...\n",
            "195              -0.123886              -1.548253               0.994161\n",
            "196              -0.571195               0.701674               0.779460\n",
            "197              -0.030517               0.507562               0.928252\n",
            "198               0.780499               0.216395               1.151441\n",
            "199               1.060950               0.255753              -1.129479\n",
            "\n",
            "[200 rows x 3 columns]\n"
          ]
        }
      ]
    },
    {
      "cell_type": "markdown",
      "source": [
        "*** The End ***"
      ],
      "metadata": {
        "id": "KR5Xhp3oYezt"
      }
    }
  ]
}